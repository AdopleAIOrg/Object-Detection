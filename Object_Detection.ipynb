{
  "nbformat": 4,
  "nbformat_minor": 0,
  "metadata": {
    "colab": {
      "provenance": [],
      "authorship_tag": "ABX9TyPl++3WZTnR4f+HX0i+UfpJ",
      "include_colab_link": true
    },
    "kernelspec": {
      "name": "python3",
      "display_name": "Python 3"
    },
    "language_info": {
      "name": "python"
    }
  },
  "cells": [
    {
      "cell_type": "markdown",
      "metadata": {
        "id": "view-in-github",
        "colab_type": "text"
      },
      "source": [
        "<a href=\"https://colab.research.google.com/github/AdopleAIOrg/Object-Detection/blob/main/Object_Detection.ipynb\" target=\"_parent\"><img src=\"https://colab.research.google.com/assets/colab-badge.svg\" alt=\"Open In Colab\"/></a>"
      ]
    },
    {
      "cell_type": "code",
      "execution_count": null,
      "metadata": {
        "id": "eMgqUoZ1YGPH"
      },
      "outputs": [],
      "source": [
        "!pip install pillow\n",
        "!pip install streamlit\n",
        "!pip install torch\n",
        "!pip install transformers\n",
        "!pip install timm"
      ]
    },
    {
      "cell_type": "code",
      "source": [
        "%%writefile app.py\n",
        "import streamlit as st\n",
        "from transformers import DetrImageProcessor, DetrForObjectDetection\n",
        "import torch\n",
        "from PIL import Image, ImageDraw\n",
        "from typing import Tuple, Union\n",
        "\n",
        "class ObjectDetection:\n",
        "\n",
        "    \"\"\"Class for object detection using the DETR model.\"\"\"\n",
        "\n",
        "    def __init__(self):\n",
        "\n",
        "        \"\"\"Initialize the object detection class.\"\"\"\n",
        "\n",
        "        self.processor = DetrImageProcessor.from_pretrained(\"facebook/detr-resnet-101\")\n",
        "        self.model = DetrForObjectDetection.from_pretrained(\"facebook/detr-resnet-101\")\n",
        "\n",
        "    def _get_image(self):\n",
        "\n",
        "      \"\"\"Get the image from the user.\"\"\"\n",
        "\n",
        "      st.title(\"Object Detection\")\n",
        "\n",
        "      uploaded_file = st.file_uploader(\"Choose an image...\", type=[\"jpg\", \"jpeg\", \"png\"])\n",
        "      if uploaded_file is not None:\n",
        "            image = Image.open(uploaded_file)\n",
        "            st.image(image, caption=\"Uploaded Image\", use_column_width=True)\n",
        "\n",
        "\n",
        "            if st.button(\"Detect Objects\"):\n",
        "                    st.spinner(\"Processing...\")\n",
        "            return image\n",
        "\n",
        "\n",
        "    def _process_image(self) -> Tuple[Image.Image, dict]:\n",
        "\n",
        "        \"\"\"Process the image and return the results.\n",
        "\n",
        "        This private method is used internally to process the image using the object detection model.\n",
        "        It uses the `processor` to prepare the image and the `model` to perform the object detection.\n",
        "        The results of the detection are then extracted using the `processor`.\n",
        "\n",
        "        Returns:\n",
        "            Tuple[Image.Image, dict]: A tuple containing the processed image and the detection results.\n",
        "                                     The detection results are a dictionary containing keys \"scores\",\n",
        "                                     \"labels\", and \"boxes\".\n",
        "        \"\"\"\n",
        "\n",
        "        # Get the image from the object detection class (assuming there's a method \"_get_image()\")\n",
        "        image = self._get_image()\n",
        "        # Prepare the image for model input using the \"processor\" (assuming it's a valid processor)\n",
        "        inputs = self.processor(images=image, return_tensors=\"pt\")\n",
        "        # Perform the object detection using the \"model\" (assuming it's a valid object detection model)\n",
        "        outputs = self.model(**inputs)\n",
        "\n",
        "        # Get target sizes to post-process the detection results\n",
        "        target_sizes = torch.tensor([image.size[::-1]])\n",
        "\n",
        "        # Post-process the detection outputs to get the final results\n",
        "        results = self.processor.post_process_object_detection(outputs, target_sizes=target_sizes, threshold=0.9)[0]\n",
        "\n",
        "        # Return the processed image and the detection results\n",
        "        return image,results\n",
        "\n",
        "    def show_reuslt(self) -> Union[str, None]:\n",
        "\n",
        "      \"\"\"Show the results of the object detection.\n",
        "\n",
        "      This method processes the image, detects objects using the model, and displays the results.\n",
        "      If the image processing or object detection fails, it will display an error message.\n",
        "\n",
        "      Returns:\n",
        "          str or None: Returns \"Upload Image\" if processing fails, otherwise returns None.\n",
        "      \"\"\"\n",
        "\n",
        "      try:\n",
        "          # Process the image and get detection results\n",
        "          image,results = self._process_image()\n",
        "\n",
        "          # Loop through the detected objects and draw rectangles around them\n",
        "          draw = ImageDraw.Draw(image)\n",
        "          for score, label, box in zip(results[\"scores\"], results[\"labels\"], results[\"boxes\"]):\n",
        "              box = [round(i, 2) for i in box.tolist()]\n",
        "              draw.rectangle(box, outline=\"red\", width=3)\n",
        "\n",
        "              # Display the detection results for each object\n",
        "              st.write(\n",
        "                  f\"Detected {self.model.config.id2label[label.item()]} with confidence \"\n",
        "                  f\"{round(score.item(), 3)} at location {box}\"\n",
        "              )\n",
        "\n",
        "          # Display the image with detected objects\n",
        "          st.image(image, caption=\"Detected Objects\", use_column_width=True)\n",
        "      except:\n",
        "        return \"Upload Image\"\n",
        "\n",
        "\n",
        "if __name__ == \"__main__\":\n",
        "\n",
        "    object_detec = ObjectDetection()\n",
        "    object_detec.show_reuslt()"
      ],
      "metadata": {
        "id": "8yfAuFubYWYc"
      },
      "execution_count": null,
      "outputs": []
    },
    {
      "cell_type": "code",
      "source": [
        "!streamlit run app.py & npx localtunnel --port 8501"
      ],
      "metadata": {
        "colab": {
          "base_uri": "https://localhost:8080/"
        },
        "id": "SvvUZzgFGWsP",
        "outputId": "a12b15be-17fe-4c82-c63a-c8d01e2a47ea"
      },
      "execution_count": 10,
      "outputs": [
        {
          "output_type": "stream",
          "name": "stdout",
          "text": [
            "\u001b[34m  Stopping...\u001b[0m\n",
            "^C\n"
          ]
        }
      ]
    }
  ]
}